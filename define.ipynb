{
  "nbformat": 4,
  "nbformat_minor": 0,
  "metadata": {
    "colab": {
      "name": "define.ipynb",
      "provenance": [],
      "toc_visible": true,
      "authorship_tag": "ABX9TyPSKwUMRoaUbHN/CJg+06KE",
      "include_colab_link": true
    },
    "kernelspec": {
      "name": "python3",
      "display_name": "Python 3"
    }
  },
  "cells": [
    {
      "cell_type": "markdown",
      "metadata": {
        "id": "view-in-github",
        "colab_type": "text"
      },
      "source": [
        "<a href=\"https://colab.research.google.com/github/irles24601/ML_basic/blob/master/define.ipynb\" target=\"_parent\"><img src=\"https://colab.research.google.com/assets/colab-badge.svg\" alt=\"Open In Colab\"/></a>"
      ]
    },
    {
      "cell_type": "markdown",
      "metadata": {
        "id": "cqpRvNv1Og03"
      },
      "source": [
        "## ●関数"
      ]
    },
    {
      "cell_type": "code",
      "metadata": {
        "colab": {
          "base_uri": "https://localhost:8080/"
        },
        "id": "OpdCA4YkM55M",
        "outputId": "a48c72e8-8d8e-4918-cf2a-e8972b9bad2c"
      },
      "source": [
        "def say_hello():  # defの後に関数名を記述\n",
        "    print(\"Hello world!\")  # 行頭にインデントを挿入\n",
        "\n",
        "say_hello()  # 関数の呼び出し"
      ],
      "execution_count": 1,
      "outputs": [
        {
          "output_type": "stream",
          "text": [
            "Hello world!\n"
          ],
          "name": "stdout"
        }
      ]
    },
    {
      "cell_type": "code",
      "metadata": {
        "colab": {
          "base_uri": "https://localhost:8080/"
        },
        "id": "HiamxcD9N2rd",
        "outputId": "53e4514e-640c-4540-dc33-eb6d3c15dac2"
      },
      "source": [
        "def say_gm():\n",
        "    print(\"Good morning!\")\n",
        "\n",
        "say_gm()\n",
        "say_gm()\n",
        "say_gm()"
      ],
      "execution_count": 2,
      "outputs": [
        {
          "output_type": "stream",
          "text": [
            "Good morning!\n",
            "Good morning!\n",
            "Good morning!\n"
          ],
          "name": "stdout"
        }
      ]
    },
    {
      "cell_type": "markdown",
      "metadata": {
        "id": "8yuWrc96Osas"
      },
      "source": [
        "## ●引数"
      ]
    },
    {
      "cell_type": "code",
      "metadata": {
        "colab": {
          "base_uri": "https://localhost:8080/"
        },
        "id": "_TEAo1XtOZB1",
        "outputId": "f5e1ce2c-b0f2-4680-dc88-195da6875ba0"
      },
      "source": [
        "def say_number(a):\n",
        "    print(a)\n",
        "\n",
        "say_number(123)"
      ],
      "execution_count": 3,
      "outputs": [
        {
          "output_type": "stream",
          "text": [
            "123\n"
          ],
          "name": "stdout"
        }
      ]
    },
    {
      "cell_type": "code",
      "metadata": {
        "colab": {
          "base_uri": "https://localhost:8080/"
        },
        "id": "iVxKAGpHO9ZU",
        "outputId": "f76cdd52-feb4-453b-ba28-c7107ea5fc1f"
      },
      "source": [
        "def add(a, b, c):\n",
        "    d = a + b + c\n",
        "    print(d)\n",
        "\n",
        "add(3, 4, 5)"
      ],
      "execution_count": 4,
      "outputs": [
        {
          "output_type": "stream",
          "text": [
            "12\n"
          ],
          "name": "stdout"
        }
      ]
    },
    {
      "cell_type": "markdown",
      "metadata": {
        "id": "3ecYfRdAPOXU"
      },
      "source": [
        "## ●返り値"
      ]
    },
    {
      "cell_type": "code",
      "metadata": {
        "colab": {
          "base_uri": "https://localhost:8080/"
        },
        "id": "9xwJJuWyPQpp",
        "outputId": "5c00cc67-07ba-4ef7-a8b6-ca1e7ab2140c"
      },
      "source": [
        "def get_number():\n",
        "    a = 123\n",
        "    return a\n",
        "\n",
        "b = get_number()\n",
        "print(b)"
      ],
      "execution_count": 5,
      "outputs": [
        {
          "output_type": "stream",
          "text": [
            "123\n"
          ],
          "name": "stdout"
        }
      ]
    },
    {
      "cell_type": "code",
      "metadata": {
        "colab": {
          "base_uri": "https://localhost:8080/"
        },
        "id": "CUD3QOpcPmex",
        "outputId": "c7c2eaf3-e383-4dc9-e236-2d4fbd5a417f"
      },
      "source": [
        "def add(a, b):\n",
        "    c = a + b\n",
        "    return c\n",
        "\n",
        "result1 = add(3, 4)\n",
        "print(result1)\n",
        "\n",
        "result2 = add(7, 8)\n",
        "print(result2)"
      ],
      "execution_count": 6,
      "outputs": [
        {
          "output_type": "stream",
          "text": [
            "7\n",
            "15\n"
          ],
          "name": "stdout"
        }
      ]
    },
    {
      "cell_type": "markdown",
      "metadata": {
        "id": "U8TG4oXoP7_d"
      },
      "source": [
        "## ●変数のスコープ\n",
        "\n",
        "ローカル変数は同じ関数内からのみアクセス可。  \n",
        "グローバル変数はどこからでもアクセスできる。"
      ]
    },
    {
      "cell_type": "code",
      "metadata": {
        "colab": {
          "base_uri": "https://localhost:8080/"
        },
        "id": "stsROL-XP-me",
        "outputId": "baa69064-e1b9-4976-da48-348306036428"
      },
      "source": [
        "glob_1 = 123    #グローバル変数\n",
        "\n",
        "def show_number():\n",
        "    loc_1 = 456 #ローカル変数\n",
        "    print(glob_1, loc_1)\n",
        "\n",
        "show_number()"
      ],
      "execution_count": 7,
      "outputs": [
        {
          "output_type": "stream",
          "text": [
            "123 456\n"
          ],
          "name": "stdout"
        }
      ]
    },
    {
      "cell_type": "code",
      "metadata": {
        "colab": {
          "base_uri": "https://localhost:8080/",
          "height": 202
        },
        "id": "PniLIRAjQdcR",
        "outputId": "4aa4bcbf-c30a-4373-8c41-4352d69eff13"
      },
      "source": [
        "glob_2 = 123\n",
        "\n",
        "def setNum():\n",
        "    loc_2 = 456\n",
        "\n",
        "setNum()\n",
        "print(glob_2, loc_2)"
      ],
      "execution_count": 8,
      "outputs": [
        {
          "output_type": "error",
          "ename": "NameError",
          "evalue": "ignored",
          "traceback": [
            "\u001b[0;31m---------------------------------------------------------------------------\u001b[0m",
            "\u001b[0;31mNameError\u001b[0m                                 Traceback (most recent call last)",
            "\u001b[0;32m<ipython-input-8-3faebefcdbf6>\u001b[0m in \u001b[0;36m<module>\u001b[0;34m()\u001b[0m\n\u001b[1;32m      5\u001b[0m \u001b[0;34m\u001b[0m\u001b[0m\n\u001b[1;32m      6\u001b[0m \u001b[0msetNum\u001b[0m\u001b[0;34m(\u001b[0m\u001b[0;34m)\u001b[0m\u001b[0;34m\u001b[0m\u001b[0;34m\u001b[0m\u001b[0m\n\u001b[0;32m----> 7\u001b[0;31m \u001b[0mprint\u001b[0m\u001b[0;34m(\u001b[0m\u001b[0mglob_2\u001b[0m\u001b[0;34m,\u001b[0m \u001b[0mloc_2\u001b[0m\u001b[0;34m)\u001b[0m\u001b[0;34m\u001b[0m\u001b[0;34m\u001b[0m\u001b[0m\n\u001b[0m",
            "\u001b[0;31mNameError\u001b[0m: name 'loc_2' is not defined"
          ]
        }
      ]
    },
    {
      "cell_type": "markdown",
      "metadata": {
        "id": "NPebXo7OQ3L1"
      },
      "source": [
        "## ●クラス\n",
        "\n",
        "複数の「関数のようなもの」をまとめることができる。  \n",
        "「関数のようなもの」はメソッドと呼ばれる。"
      ]
    },
    {
      "cell_type": "code",
      "metadata": {
        "colab": {
          "base_uri": "https://localhost:8080/"
        },
        "id": "Ps-1xpf3RHtT",
        "outputId": "ef41ba33-661b-4ebe-dbb3-bd437bc13c72"
      },
      "source": [
        "class Calc:\n",
        "    def add(self, a, b):\n",
        "        print(a + b)\n",
        "\n",
        "    def multiply(self, a, b):\n",
        "        print(a * b)\n",
        "\n",
        "cl = Calc()\n",
        "cl.add(2, 3)\n",
        "cl.multiply(4, 5)"
      ],
      "execution_count": 9,
      "outputs": [
        {
          "output_type": "stream",
          "text": [
            "5\n",
            "20\n"
          ],
          "name": "stdout"
        }
      ]
    },
    {
      "cell_type": "markdown",
      "metadata": {
        "id": "gGHIIG3-RqbO"
      },
      "source": [
        "関数とは異なり、メソッドの最初の引数はselfと書く必要がある。\n",
        "\n",
        "このselfを用いて、インスタンスは値を保持することができる。"
      ]
    },
    {
      "cell_type": "code",
      "metadata": {
        "colab": {
          "base_uri": "https://localhost:8080/"
        },
        "id": "AP7MEY3xR1db",
        "outputId": "c1d37866-13e4-4df3-b76a-e7a6caf06c9c"
      },
      "source": [
        "class Box:\n",
        "    def set_number(self, n1, n2):\n",
        "        self.num1 = n1  # num1がインスタンス変数\n",
        "        self.num2 = n2\n",
        "\n",
        "bx = Box()\n",
        "bx.set_number(123, 456)\n",
        "\n",
        "print(bx.num1)  # インスタンス変数の値を表示\n",
        "print(bx.num2)\n",
        "\n",
        "bx.num1 = 999   # 値を変更\n",
        "print(bx.num1)"
      ],
      "execution_count": 10,
      "outputs": [
        {
          "output_type": "stream",
          "text": [
            "123\n",
            "456\n",
            "999\n"
          ],
          "name": "stdout"
        }
      ]
    },
    {
      "cell_type": "code",
      "metadata": {
        "colab": {
          "base_uri": "https://localhost:8080/"
        },
        "id": "hYsfLgzKSebQ",
        "outputId": "130ba000-09be-4ba9-ff8c-d1ddae7bc1bb"
      },
      "source": [
        "class Dog:\n",
        "    def set_dog(self, n, a):\n",
        "        self.name = n\n",
        "        self.age = a\n",
        "        \n",
        "dog1 = Dog()\n",
        "dog1.set_dog(\"Pochi\", 5)\n",
        "\n",
        "dog2 = Dog()\n",
        "dog2.set_dog(\"Hachi\", 12)\n",
        "\n",
        "dogs = [dog1, dog2]  # リストに格納\n",
        "for d in dogs:\n",
        "    print(d.name, d.age)"
      ],
      "execution_count": 13,
      "outputs": [
        {
          "output_type": "stream",
          "text": [
            "Pochi 5\n",
            "Hachi 12\n"
          ],
          "name": "stdout"
        }
      ]
    },
    {
      "cell_type": "markdown",
      "metadata": {
        "id": "QxyUsMi-TLec"
      },
      "source": [
        "## ●ファイルの保存と読み込み"
      ]
    },
    {
      "cell_type": "code",
      "metadata": {
        "id": "7kjc8rHaTPAr"
      },
      "source": [
        "greetings = \"Good morning! Good night!\"\n",
        "\n",
        "with open(\"greetings.txt\", \"w\") as f:\n",
        "    f.write(greetings)  # ファイルの書き込み"
      ],
      "execution_count": 14,
      "outputs": []
    },
    {
      "cell_type": "code",
      "metadata": {
        "colab": {
          "base_uri": "https://localhost:8080/"
        },
        "id": "n9-u0gc6TvMg",
        "outputId": "6c0b5291-be59-40b9-c723-3132af293470"
      },
      "source": [
        "with open(\"some_greetings.txt\", \"r\") as f:\n",
        "    print(f.read()) # ファイルの読み込み"
      ],
      "execution_count": 17,
      "outputs": [
        {
          "output_type": "stream",
          "text": [
            "Good morning!\n",
            "Good morning!\n",
            "Good morning!\n",
            "Good morning!\n"
          ],
          "name": "stdout"
        }
      ]
    }
  ]
}