{
  "nbformat": 4,
  "nbformat_minor": 0,
  "metadata": {
    "colab": {
      "name": "first_colab.ipynb",
      "provenance": [],
      "collapsed_sections": [],
      "authorship_tag": "ABX9TyMAi4h9DHbB09PcQFxRmie3",
      "include_colab_link": true
    },
    "kernelspec": {
      "name": "python3",
      "display_name": "Python 3"
    }
  },
  "cells": [
    {
      "cell_type": "markdown",
      "metadata": {
        "id": "view-in-github",
        "colab_type": "text"
      },
      "source": [
        "<a href=\"https://colab.research.google.com/github/irles24601/ML_basic/blob/master/first_colab.ipynb\" target=\"_parent\"><img src=\"https://colab.research.google.com/assets/colab-badge.svg\" alt=\"Open In Colab\"/></a>"
      ]
    },
    {
      "cell_type": "code",
      "metadata": {
        "colab": {
          "base_uri": "https://localhost:8080/"
        },
        "id": "ijrUOQEww-8B",
        "outputId": "f539dd99-a096-44f1-efba-bae703bd9bff"
      },
      "source": [
        "print(\"Hello World!\")"
      ],
      "execution_count": null,
      "outputs": [
        {
          "output_type": "stream",
          "text": [
            "Hello World!\n"
          ],
          "name": "stdout"
        }
      ]
    },
    {
      "cell_type": "code",
      "metadata": {
        "colab": {
          "base_uri": "https://localhost:8080/"
        },
        "id": "Hn64FyjCyOJp",
        "outputId": "74549deb-9c06-489f-cdae-0038766372e3"
      },
      "source": [
        "a = 3\n",
        "b = 4\n",
        "print(a + b)"
      ],
      "execution_count": null,
      "outputs": [
        {
          "output_type": "stream",
          "text": [
            "7\n"
          ],
          "name": "stdout"
        }
      ]
    },
    {
      "cell_type": "markdown",
      "metadata": {
        "id": "E1ZIgO1ry5HU"
      },
      "source": [
        "**Python**で*人工知能*のコードを書いていく。  \n",
        "Colabにはコードセルとテキストセルがある。\n",
        "\n",
        "\n",
        "\n",
        "1.   リスト項目\n",
        "2.   リスト項目\n",
        "3.番号付きの箇条書き\n",
        "\n",
        "*   リスト項目\n",
        "*   リスト項目\n",
        "*箇条書き\n",
        "\n",
        "[Google検索](https://google.com)\n",
        "\n",
        "# AI講座\n",
        "## AI講座\n",
        "### AI講座\n",
        "#### AI講座\n",
        "\n",
        "\n",
        "\n",
        "\n"
      ]
    },
    {
      "cell_type": "markdown",
      "metadata": {
        "id": "UqtsHXbRz_Dl"
      },
      "source": [
        "$$ y = 2x + 1 $$"
      ]
    }
  ]
}